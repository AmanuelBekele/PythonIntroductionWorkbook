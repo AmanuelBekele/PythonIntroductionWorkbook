{
 "cells": [
  {
   "cell_type": "markdown",
   "metadata": {},
   "source": [
    "## For Loops\n",
    "Sometimes you want something to keep happening, this is called a loop. There are several types of loop, the FOR loop and the WHILE Loop etc. \n",
    "\n",
    "Try the example for loop below:\n",
    "```python\n",
    "for x in range(1,5 ):\n",
    "print (x\n",
    "```"
   ]
  },
  {
   "cell_type": "code",
   "execution_count": null,
   "metadata": {
    "collapsed": true
   },
   "outputs": [],
   "source": []
  },
  {
   "cell_type": "markdown",
   "metadata": {},
   "source": [
    "### Task 1: Explaining the FOR command\n",
    "What is the **for** command doing?\n",
    "<p>\n",
    "*enter your answer here*"
   ]
  },
  {
   "cell_type": "markdown",
   "metadata": {},
   "source": [
    "### Task 2: Usinfg the FOR command\n",
    "Write a piece of code that outputs the numbers from 1 to 10 with the word number before it e.g.\n",
    "<p>\n",
    "Number 1\n",
    "Number 2\n",
    "etc.\n",
    "\n",
    "Code your solution below:"
   ]
  },
  {
   "cell_type": "code",
   "execution_count": null,
   "metadata": {
    "collapsed": true
   },
   "outputs": [],
   "source": []
  }
 ],
 "metadata": {
  "kernelspec": {
   "display_name": "Python 3",
   "language": "python",
   "name": "python3"
  },
  "language_info": {
   "codemirror_mode": {
    "name": "ipython",
    "version": 3
   },
   "file_extension": ".py",
   "mimetype": "text/x-python",
   "name": "python",
   "nbconvert_exporter": "python",
   "pygments_lexer": "ipython3",
   "version": "3.5.2"
  }
 },
 "nbformat": 4,
 "nbformat_minor": 2
}
