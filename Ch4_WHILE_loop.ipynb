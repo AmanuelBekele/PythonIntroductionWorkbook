{
 "cells": [
  {
   "cell_type": "markdown",
   "metadata": {},
   "source": [
    "## While Loops\n",
    "Like the For loop the While Loop will do something while a condition is being met, **While** I am feeling hungry, eat food. Once the while condition has been met the program stops the loop, once you are not hungry, stop eating.\n",
    "\n",
    "**TRY THIS:**\n",
    "```python\n",
    "x=1 \n",
    "while x==1: \n",
    "print (\"ERROR!!!\")\n",
    "```"
   ]
  },
  {
   "cell_type": "code",
   "execution_count": null,
   "metadata": {
    "collapsed": true
   },
   "outputs": [],
   "source": []
  },
  {
   "cell_type": "markdown",
   "metadata": {},
   "source": [
    "### Task 1: What is the code doing?\n",
    "Explain what the code above is doing:\n",
    "<p>\n",
    "*enter your answer here*"
   ]
  },
  {
   "cell_type": "markdown",
   "metadata": {},
   "source": [
    "You can create a countdown by taking away 1 from the variable number each time, ie x = 5, x-1, so now x =4, x-1, so now x=3 and so on. The code is x =x-1. \n",
    "\n",
    "### Task 2: Countdown Program\n",
    "\n",
    "Change the x variable value to 10, the while should be changed so that the while the x value is greater than 1. Finally add x = x-1 to the last line of the program. Print out the numbers that this program outputs. \n",
    "\n",
    "Code your solution below:"
   ]
  },
  {
   "cell_type": "code",
   "execution_count": null,
   "metadata": {
    "collapsed": true
   },
   "outputs": [],
   "source": []
  },
  {
   "cell_type": "markdown",
   "metadata": {},
   "source": [
    "### Functions - Pausing\n",
    "\n",
    "The program runs very fast and all the instructions are completed very quickly. To slow down the instructions or pause between them we can use the sleep function. The sleep function is stored in the time module, so we first have to import the time module. \n",
    "\n",
    "### Task 3: \n",
    "\n",
    "**TRY THIS USING YOUR COUNTDOWN PROGRAM**\n",
    "Add the codes **import time** to the first line of your program (This imports the time features) \n",
    "Add the code, **time.sleep(2)** after the print x feature. \n"
   ]
  }
 ],
 "metadata": {
  "kernelspec": {
   "display_name": "Python 3",
   "language": "python",
   "name": "python3"
  },
  "language_info": {
   "codemirror_mode": {
    "name": "ipython",
    "version": 3
   },
   "file_extension": ".py",
   "mimetype": "text/x-python",
   "name": "python",
   "nbconvert_exporter": "python",
   "pygments_lexer": "ipython3",
   "version": "3.5.2"
  }
 },
 "nbformat": 4,
 "nbformat_minor": 2
}
